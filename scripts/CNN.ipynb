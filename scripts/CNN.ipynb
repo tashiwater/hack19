{
 "cells": [
  {
   "cell_type": "code",
   "execution_count": 1,
   "metadata": {},
   "outputs": [],
   "source": [
    "import os\n",
    "import numpy as np\n",
    "import cv2\n",
    "import matplotlib.pyplot as plt"
   ]
  },
  {
   "cell_type": "code",
   "execution_count": 2,
   "metadata": {},
   "outputs": [],
   "source": [
    "NUM_CLASSES = 3 # 分類するクラス数\n",
    "IMG_SIZE = 28 # 画像の1辺の長さ\n",
    "\n",
    "# 画像のあるディレクトリ\n",
    "train_img_dirs = ['1','2','3']"
   ]
  },
  {
   "cell_type": "code",
   "execution_count": 3,
   "metadata": {},
   "outputs": [
    {
     "name": "stdout",
     "output_type": "stream",
     "text": [
      "30 30\n"
     ]
    }
   ],
   "source": [
    "# 学習画像データ\n",
    "train_images = []\n",
    "# 学習データのラベル\n",
    "train_labels = []\n",
    "\n",
    "for i, d in enumerate(train_img_dirs):\n",
    "    # ./data/以下の各ディレクトリ内のファイル名取得\n",
    "    files = os.listdir('../data/' + d)\n",
    "    for f in files:\n",
    "        # 画像読み込み\n",
    "        img = cv2.imread('../data/' + d + '/' + f)\n",
    "        # 1辺がIMG_SIZEの正方形にリサイズ\n",
    "        img = cv2.resize(img, (IMG_SIZE, IMG_SIZE))\n",
    "        # 1列にして ####この処理はなくす\n",
    "        #img = img.flatten().astype(np.float32)/255.0\n",
    "        train_images.append(img)\n",
    "\n",
    "        # one_hot_vectorを作りラベルとして追加 ######変更\n",
    "        #tmp = np.zeros(NUM_CLASSES)\n",
    "        #tmp[i] = 1\n",
    "        tmp = i\n",
    "        train_labels.append(tmp)\n",
    "\n",
    "# numpy配列に変換\n",
    "train_images = np.asarray(train_images)\n",
    "train_labels = np.asarray(train_labels)\n",
    "print(len(train_images), len(train_labels))"
   ]
  },
  {
   "cell_type": "code",
   "execution_count": 4,
   "metadata": {},
   "outputs": [
    {
     "data": {
      "image/png": "[encoded data removed]",
      "text/plain": [
       "<Figure size 432x288 with 2 Axes>"
      ]
     },
     "metadata": {
      "needs_background": "light"
     },
     "output_type": "display_data"
    },
    {
     "data": {
      "text/plain": [
       "(28, 28, 3)"
      ]
     },
     "execution_count": 4,
     "metadata": {},
     "output_type": "execute_result"
    }
   ],
   "source": [
    "plt.figure()\n",
    "plt.imshow(train_images[4])\n",
    "plt.colorbar()\n",
    "plt.gca().grid(False)\n",
    "plt.show()\n",
    "train_images[4].shape"
   ]
  },
  {
   "cell_type": "code",
   "execution_count": 5,
   "metadata": {},
   "outputs": [
    {
     "name": "stdout",
     "output_type": "stream",
     "text": [
      "1.15.0-dev20190726\n"
     ]
    }
   ],
   "source": [
    "from __future__ import absolute_import, division, print_function, unicode_literals\n",
    "\n",
    "# TensorFlow と tf.keras のインポート\n",
    "import tensorflow as tf\n",
    "from tensorflow import keras\n",
    "\n",
    "# ヘルパーライブラリのインポート\n",
    "import numpy as np\n",
    "\n",
    "\n",
    "print(tf.__version__)"
   ]
  },
  {
   "cell_type": "code",
   "execution_count": 6,
   "metadata": {},
   "outputs": [],
   "source": [
    "#train_images = train_images / 255.0"
   ]
  },
  {
   "cell_type": "code",
   "execution_count": 7,
   "metadata": {},
   "outputs": [
    {
     "name": "stderr",
     "output_type": "stream",
     "text": [
      "WARNING: Logging before flag parsing goes to stderr.\n",
      "W0728 05:36:23.006053 140418456950592 deprecation.py:506] From /home/yuto/anaconda3/lib/python3.7/site-packages/tensorflow_core/python/ops/resource_variable_ops.py:1633: calling BaseResourceVariable.__init__ (from tensorflow.python.ops.resource_variable_ops) with constraint is deprecated and will be removed in a future version.\n",
      "Instructions for updating:\n",
      "If using Keras pass *_constraint arguments to layers.\n"
     ]
    }
   ],
   "source": [
    "model = keras.Sequential([\n",
    "    keras.layers.Flatten(input_shape=(28, 28,3)),#形状に用注意\n",
    "    keras.layers.Dense(128, activation=tf.nn.relu),\n",
    "    keras.layers.Dense(10, activation=tf.nn.softmax)\n",
    "])"
   ]
  },
  {
   "cell_type": "code",
   "execution_count": 8,
   "metadata": {},
   "outputs": [],
   "source": [
    "model.compile(optimizer=tf.keras.optimizers.Adam(),\n",
    "              loss='sparse_categorical_crossentropy',\n",
    "              metrics=['accuracy'])"
   ]
  },
  {
   "cell_type": "code",
   "execution_count": 9,
   "metadata": {},
   "outputs": [
    {
     "name": "stderr",
     "output_type": "stream",
     "text": [
      "W0728 05:36:24.131466 140418456950592 deprecation.py:323] From /home/yuto/anaconda3/lib/python3.7/site-packages/tensorflow_core/python/keras/optimizer_v2/optimizer_v2.py:468: BaseResourceVariable.constraint (from tensorflow.python.ops.resource_variable_ops) is deprecated and will be removed in a future version.\n",
      "Instructions for updating:\n",
      "Apply a constraint manually following the optimizer update step.\n"
     ]
    },
    {
     "name": "stdout",
     "output_type": "stream",
     "text": [
      "Train on 30 samples\n",
      "Epoch 1/100\n",
      "30/30 [==============================] - 0s 1ms/sample - loss: 320.5322 - acc: 0.1333\n",
      "Epoch 2/100\n",
      "30/30 [==============================] - 0s 119us/sample - loss: 257.7644 - acc: 0.3000\n",
      "Epoch 3/100\n",
      "30/30 [==============================] - 0s 206us/sample - loss: 524.2578 - acc: 0.6000\n",
      "Epoch 4/100\n",
      "30/30 [==============================] - 0s 126us/sample - loss: 882.8342 - acc: 0.3667\n",
      "Epoch 5/100\n",
      "30/30 [==============================] - 0s 150us/sample - loss: 751.8526 - acc: 0.3667\n",
      "Epoch 6/100\n",
      "30/30 [==============================] - 0s 176us/sample - loss: 527.6328 - acc: 0.6333\n",
      "Epoch 7/100\n",
      "30/30 [==============================] - 0s 118us/sample - loss: 329.0964 - acc: 0.4667\n",
      "Epoch 8/100\n",
      "30/30 [==============================] - 0s 103us/sample - loss: 40.4806 - acc: 0.7333\n",
      "Epoch 9/100\n",
      "30/30 [==============================] - 0s 133us/sample - loss: 355.1631 - acc: 0.3000\n",
      "Epoch 10/100\n",
      "30/30 [==============================] - 0s 112us/sample - loss: 455.7100 - acc: 0.3000\n",
      "Epoch 11/100\n",
      "30/30 [==============================] - 0s 114us/sample - loss: 231.2559 - acc: 0.4333\n",
      "Epoch 12/100\n",
      "30/30 [==============================] - 0s 122us/sample - loss: 38.6782 - acc: 0.8333\n",
      "Epoch 13/100\n",
      "30/30 [==============================] - 0s 106us/sample - loss: 96.9893 - acc: 0.7000\n",
      "Epoch 14/100\n",
      "30/30 [==============================] - 0s 100us/sample - loss: 178.5758 - acc: 0.6333\n",
      "Epoch 15/100\n",
      "30/30 [==============================] - 0s 130us/sample - loss: 180.5846 - acc: 0.6333\n",
      "Epoch 16/100\n",
      "30/30 [==============================] - 0s 160us/sample - loss: 136.3114 - acc: 0.6667\n",
      "Epoch 17/100\n",
      "30/30 [==============================] - 0s 98us/sample - loss: 86.4772 - acc: 0.7333\n",
      "Epoch 18/100\n",
      "30/30 [==============================] - 0s 84us/sample - loss: 22.2268 - acc: 0.8333\n",
      "Epoch 19/100\n",
      "30/30 [==============================] - 0s 99us/sample - loss: 10.5635 - acc: 0.9000\n",
      "Epoch 20/100\n",
      "30/30 [==============================] - 0s 123us/sample - loss: 71.2985 - acc: 0.6333\n",
      "Epoch 21/100\n",
      "30/30 [==============================] - 0s 100us/sample - loss: 79.4558 - acc: 0.6000\n",
      "Epoch 22/100\n",
      "30/30 [==============================] - 0s 102us/sample - loss: 49.4703 - acc: 0.8667\n",
      "Epoch 23/100\n",
      "30/30 [==============================] - 0s 141us/sample - loss: 34.0119 - acc: 0.8333\n",
      "Epoch 24/100\n",
      "30/30 [==============================] - 0s 100us/sample - loss: 9.4355 - acc: 0.9000\n",
      "Epoch 25/100\n",
      "30/30 [==============================] - 0s 124us/sample - loss: 24.7984 - acc: 0.8333\n",
      "Epoch 26/100\n",
      "30/30 [==============================] - 0s 91us/sample - loss: 46.6150 - acc: 0.8333\n",
      "Epoch 27/100\n",
      "30/30 [==============================] - 0s 114us/sample - loss: 38.4644 - acc: 0.8333\n",
      "Epoch 28/100\n",
      "30/30 [==============================] - 0s 117us/sample - loss: 6.1024 - acc: 0.9667\n",
      "Epoch 29/100\n",
      "30/30 [==============================] - 0s 133us/sample - loss: 4.1560 - acc: 0.9667\n",
      "Epoch 30/100\n",
      "30/30 [==============================] - 0s 111us/sample - loss: 8.2244 - acc: 0.9333\n",
      "Epoch 31/100\n",
      "30/30 [==============================] - 0s 139us/sample - loss: 11.7822 - acc: 0.9000\n",
      "Epoch 32/100\n",
      "30/30 [==============================] - 0s 177us/sample - loss: 8.6344 - acc: 0.9333\n",
      "Epoch 33/100\n",
      "30/30 [==============================] - 0s 153us/sample - loss: 6.0521 - acc: 0.9000\n",
      "Epoch 34/100\n",
      "30/30 [==============================] - 0s 325us/sample - loss: 5.1951 - acc: 0.9333\n",
      "Epoch 35/100\n",
      "30/30 [==============================] - 0s 116us/sample - loss: 3.9513 - acc: 0.9667\n",
      "Epoch 36/100\n",
      "30/30 [==============================] - 0s 113us/sample - loss: 1.7768 - acc: 0.9667\n",
      "Epoch 37/100\n",
      "30/30 [==============================] - 0s 159us/sample - loss: 1.3147 - acc: 0.9667\n",
      "Epoch 38/100\n",
      "30/30 [==============================] - 0s 135us/sample - loss: 0.0757 - acc: 1.0000\n",
      "Epoch 39/100\n",
      "30/30 [==============================] - 0s 141us/sample - loss: 1.7975 - acc: 0.9667\n",
      "Epoch 40/100\n",
      "30/30 [==============================] - 0s 115us/sample - loss: 2.9098 - acc: 0.9667\n",
      "Epoch 41/100\n",
      "30/30 [==============================] - 0s 97us/sample - loss: 3.9671 - acc: 0.9667\n",
      "Epoch 42/100\n",
      "30/30 [==============================] - 0s 144us/sample - loss: 3.1672 - acc: 0.9667\n",
      "Epoch 43/100\n",
      "30/30 [==============================] - 0s 117us/sample - loss: 0.8400 - acc: 0.9667\n",
      "Epoch 44/100\n",
      "30/30 [==============================] - 0s 144us/sample - loss: 0.0756 - acc: 1.0000\n",
      "Epoch 45/100\n",
      "30/30 [==============================] - 0s 146us/sample - loss: 0.0755 - acc: 1.0000\n",
      "Epoch 46/100\n",
      "30/30 [==============================] - 0s 137us/sample - loss: 0.0755 - acc: 1.0000\n",
      "Epoch 47/100\n",
      "30/30 [==============================] - 0s 122us/sample - loss: 0.0755 - acc: 1.0000\n",
      "Epoch 48/100\n",
      "30/30 [==============================] - 0s 124us/sample - loss: 0.0754 - acc: 1.0000\n",
      "Epoch 49/100\n",
      "30/30 [==============================] - 0s 155us/sample - loss: 0.1412 - acc: 0.9667\n",
      "Epoch 50/100\n",
      "30/30 [==============================] - 0s 116us/sample - loss: 0.0761 - acc: 1.0000\n",
      "Epoch 51/100\n",
      "30/30 [==============================] - 0s 144us/sample - loss: 0.0753 - acc: 1.0000\n",
      "Epoch 52/100\n",
      "30/30 [==============================] - 0s 170us/sample - loss: 0.0753 - acc: 1.0000\n",
      "Epoch 53/100\n",
      "30/30 [==============================] - 0s 104us/sample - loss: 0.0753 - acc: 1.0000\n",
      "Epoch 54/100\n",
      "30/30 [==============================] - 0s 121us/sample - loss: 0.0752 - acc: 1.0000\n",
      "Epoch 55/100\n",
      "30/30 [==============================] - 0s 342us/sample - loss: 0.0752 - acc: 1.0000\n",
      "Epoch 56/100\n",
      "30/30 [==============================] - 0s 93us/sample - loss: 0.0752 - acc: 1.0000\n",
      "Epoch 57/100\n",
      "30/30 [==============================] - 0s 106us/sample - loss: 0.0751 - acc: 1.0000\n",
      "Epoch 58/100\n",
      "30/30 [==============================] - 0s 125us/sample - loss: 0.0751 - acc: 1.0000\n",
      "Epoch 59/100\n",
      "30/30 [==============================] - 0s 123us/sample - loss: 0.0751 - acc: 1.0000\n",
      "Epoch 60/100\n",
      "30/30 [==============================] - 0s 81us/sample - loss: 0.0750 - acc: 1.0000\n",
      "Epoch 61/100\n",
      "30/30 [==============================] - 0s 134us/sample - loss: 0.0750 - acc: 1.0000\n",
      "Epoch 62/100\n",
      "30/30 [==============================] - 0s 205us/sample - loss: 0.0750 - acc: 1.0000\n",
      "Epoch 63/100\n",
      "30/30 [==============================] - 0s 116us/sample - loss: 0.0749 - acc: 1.0000\n",
      "Epoch 64/100\n",
      "30/30 [==============================] - 0s 140us/sample - loss: 0.0749 - acc: 1.0000\n",
      "Epoch 65/100\n",
      "30/30 [==============================] - 0s 94us/sample - loss: 0.0749 - acc: 1.0000\n",
      "Epoch 66/100\n",
      "30/30 [==============================] - 0s 102us/sample - loss: 0.0748 - acc: 1.0000\n",
      "Epoch 67/100\n",
      "30/30 [==============================] - 0s 91us/sample - loss: 0.0748 - acc: 1.0000\n",
      "Epoch 68/100\n",
      "30/30 [==============================] - 0s 81us/sample - loss: 0.0747 - acc: 1.0000\n",
      "Epoch 69/100\n",
      "30/30 [==============================] - 0s 80us/sample - loss: 0.0747 - acc: 1.0000\n",
      "Epoch 70/100\n",
      "30/30 [==============================] - 0s 102us/sample - loss: 0.0747 - acc: 1.0000\n",
      "Epoch 71/100\n",
      "30/30 [==============================] - 0s 98us/sample - loss: 0.0746 - acc: 1.0000\n",
      "Epoch 72/100\n",
      "30/30 [==============================] - 0s 99us/sample - loss: 0.0746 - acc: 1.0000\n",
      "Epoch 73/100\n",
      "30/30 [==============================] - 0s 115us/sample - loss: 0.0746 - acc: 1.0000\n",
      "Epoch 74/100\n",
      "30/30 [==============================] - 0s 92us/sample - loss: 0.0745 - acc: 1.0000\n",
      "Epoch 75/100\n",
      "30/30 [==============================] - 0s 156us/sample - loss: 0.0745 - acc: 1.0000\n",
      "Epoch 76/100\n",
      "30/30 [==============================] - 0s 87us/sample - loss: 0.0744 - acc: 1.0000\n",
      "Epoch 77/100\n",
      "30/30 [==============================] - 0s 80us/sample - loss: 0.0744 - acc: 1.0000\n",
      "Epoch 78/100\n",
      "30/30 [==============================] - 0s 131us/sample - loss: 0.0744 - acc: 1.0000\n",
      "Epoch 79/100\n",
      "30/30 [==============================] - 0s 98us/sample - loss: 0.0743 - acc: 1.0000\n",
      "Epoch 80/100\n",
      "30/30 [==============================] - 0s 91us/sample - loss: 0.0743 - acc: 1.0000\n",
      "Epoch 81/100\n",
      "30/30 [==============================] - 0s 89us/sample - loss: 0.0742 - acc: 1.0000\n",
      "Epoch 82/100\n",
      "30/30 [==============================] - 0s 117us/sample - loss: 0.0742 - acc: 1.0000\n",
      "Epoch 83/100\n",
      "30/30 [==============================] - 0s 96us/sample - loss: 0.0741 - acc: 1.0000\n"
     ]
    },
    {
     "name": "stdout",
     "output_type": "stream",
     "text": [
      "Epoch 84/100\n",
      "30/30 [==============================] - 0s 76us/sample - loss: 0.0741 - acc: 1.0000\n",
      "Epoch 85/100\n",
      "30/30 [==============================] - 0s 104us/sample - loss: 0.0741 - acc: 1.0000\n",
      "Epoch 86/100\n",
      "30/30 [==============================] - 0s 124us/sample - loss: 0.0740 - acc: 1.0000\n",
      "Epoch 87/100\n",
      "30/30 [==============================] - 0s 132us/sample - loss: 0.0740 - acc: 1.0000\n",
      "Epoch 88/100\n",
      "30/30 [==============================] - 0s 91us/sample - loss: 0.0739 - acc: 1.0000\n",
      "Epoch 89/100\n",
      "30/30 [==============================] - 0s 109us/sample - loss: 0.0739 - acc: 1.0000\n",
      "Epoch 90/100\n",
      "30/30 [==============================] - 0s 121us/sample - loss: 0.0738 - acc: 1.0000\n",
      "Epoch 91/100\n",
      "30/30 [==============================] - 0s 150us/sample - loss: 0.0738 - acc: 1.0000\n",
      "Epoch 92/100\n",
      "30/30 [==============================] - 0s 119us/sample - loss: 0.0737 - acc: 1.0000\n",
      "Epoch 93/100\n",
      "30/30 [==============================] - 0s 111us/sample - loss: 0.0737 - acc: 1.0000\n",
      "Epoch 94/100\n",
      "30/30 [==============================] - 0s 102us/sample - loss: 0.0736 - acc: 1.0000\n",
      "Epoch 95/100\n",
      "30/30 [==============================] - 0s 130us/sample - loss: 0.0736 - acc: 1.0000\n",
      "Epoch 96/100\n",
      "30/30 [==============================] - 0s 106us/sample - loss: 0.0736 - acc: 1.0000\n",
      "Epoch 97/100\n",
      "30/30 [==============================] - 0s 97us/sample - loss: 0.0735 - acc: 1.0000\n",
      "Epoch 98/100\n",
      "30/30 [==============================] - 0s 115us/sample - loss: 0.0735 - acc: 1.0000\n",
      "Epoch 99/100\n",
      "30/30 [==============================] - 0s 98us/sample - loss: 0.0734 - acc: 1.0000\n",
      "Epoch 100/100\n",
      "30/30 [==============================] - 0s 114us/sample - loss: 0.0734 - acc: 1.0000\n"
     ]
    },
    {
     "data": {
      "text/plain": [
       "<tensorflow.python.keras.callbacks.History at 0x7fb5814b56a0>"
      ]
     },
     "execution_count": 9,
     "metadata": {},
     "output_type": "execute_result"
    }
   ],
   "source": [
    "model.fit(train_images, train_labels, epochs=100)#epochs=5"
   ]
  },
  {
   "cell_type": "code",
   "execution_count": 17,
   "metadata": {},
   "outputs": [
    {
     "name": "stdout",
     "output_type": "stream",
     "text": [
      "\r",
      "1/1 [==============================] - 0s 602us/sample - loss: 547.2230 - acc: 0.0000e+00\n"
     ]
    },
    {
     "data": {
      "image/png": "[encoded data removed]",
      "text/plain": [
       "<Figure size 432x288 with 1 Axes>"
      ]
     },
     "metadata": {
      "needs_background": "light"
     },
     "output_type": "display_data"
    }
   ],
   "source": [
    "img = cv2.imread('../input_data/input_1.png')\n",
    "        # 1辺がIMG_SIZEの正方形にリサイズ\n",
    "img = cv2.resize(img, (IMG_SIZE, IMG_SIZE))\n",
    "plt.imshow(img)\n",
    "test_images = []\n",
    "test_labels = []\n",
    "test_images.append(img)\n",
    "test_labels.append(1)\n",
    "test_images = np.asarray(test_images)\n",
    "test_labels = np.asarray(test_labels)\n",
    "test_loss, test_acc = model.evaluate(test_images, test_labels)\n",
    "predictions = model.predict(test_images)"
   ]
  },
  {
   "cell_type": "code",
   "execution_count": 18,
   "metadata": {},
   "outputs": [
    {
     "data": {
      "text/plain": [
       "0"
      ]
     },
     "execution_count": 18,
     "metadata": {},
     "output_type": "execute_result"
    }
   ],
   "source": [
    "np.argmax(predictions[0])"
   ]
  },
  {
   "cell_type": "code",
   "execution_count": 19,
   "metadata": {},
   "outputs": [
    {
     "data": {
      "text/plain": [
       "1"
      ]
     },
     "execution_count": 19,
     "metadata": {},
     "output_type": "execute_result"
    }
   ],
   "source": [
    "test_labels[0]"
   ]
  },
  {
   "cell_type": "code",
   "execution_count": 13,
   "metadata": {},
   "outputs": [
    {
     "data": {
      "text/plain": [
       "array([0., 0., 1., 0., 0., 0., 0., 0., 0., 0.], dtype=float32)"
      ]
     },
     "execution_count": 13,
     "metadata": {},
     "output_type": "execute_result"
    }
   ],
   "source": [
    "predictions[0]"
   ]
  },
  {
   "cell_type": "markdown",
   "metadata": {},
   "source": [
    "ここ以降コピペ"
   ]
  },
  {
   "cell_type": "code",
   "execution_count": 29,
   "metadata": {},
   "outputs": [
    {
     "name": "stdout",
     "output_type": "stream",
     "text": [
      "\r",
      "20/20 [==============================] - 0s 74us/sample - loss: 586.4744 - acc: 0.2500\n"
     ]
    }
   ],
   "source": [
    "#データを使いまわす犯罪行為\n",
    "#本来ここにテスト用データをいれる\n",
    "test_images = train_images\n",
    "test_labels = train_labels\n",
    "\n",
    "test_loss, test_acc = model.evaluate(test_images, test_labels)"
   ]
  },
  {
   "cell_type": "code",
   "execution_count": 30,
   "metadata": {},
   "outputs": [
    {
     "data": {
      "text/plain": [
       "array([0., 0., 1., 0., 0., 0., 0., 0., 0., 0.], dtype=float32)"
      ]
     },
     "execution_count": 30,
     "metadata": {},
     "output_type": "execute_result"
    }
   ],
   "source": [
    "predictions = model.predict(test_images)\n",
    "predictions[3]\n"
   ]
  },
  {
   "cell_type": "code",
   "execution_count": 31,
   "metadata": {},
   "outputs": [
    {
     "data": {
      "text/plain": [
       "2"
      ]
     },
     "execution_count": 31,
     "metadata": {},
     "output_type": "execute_result"
    }
   ],
   "source": [
    "np.argmax(predictions[3])"
   ]
  },
  {
   "cell_type": "code",
   "execution_count": 32,
   "metadata": {},
   "outputs": [
    {
     "data": {
      "text/plain": [
       "1"
      ]
     },
     "execution_count": 32,
     "metadata": {},
     "output_type": "execute_result"
    }
   ],
   "source": [
    "test_labels[3]"
   ]
  },
  {
   "cell_type": "code",
   "execution_count": null,
   "metadata": {},
   "outputs": [],
   "source": []
  }
 ],
 "metadata": {
  "kernelspec": {
   "display_name": "Python 3",
   "language": "python",
   "name": "python3"
  },
  "language_info": {
   "codemirror_mode": {
    "name": "ipython",
    "version": 3
   },
   "file_extension": ".py",
   "mimetype": "text/x-python",
   "name": "python",
   "nbconvert_exporter": "python",
   "pygments_lexer": "ipython3",
   "version": "3.7.3"
  }
 },
 "nbformat": 4,
 "nbformat_minor": 2
}
